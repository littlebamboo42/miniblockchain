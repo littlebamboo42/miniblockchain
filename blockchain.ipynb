{
 "cells": [
  {
   "cell_type": "markdown",
   "metadata": {},
   "source": [
    "# Create the Blockchain class"
   ]
  },
  {
   "cell_type": "code",
   "execution_count": 3,
   "metadata": {
    "collapsed": true
   },
   "outputs": [],
   "source": [
    "import hashlib\n",
    "from time import time\n",
    "import json\n",
    "from uuid import uuid4\n",
    "\n",
    "class Blockchain(object):\n",
    "    def __init__(self):\n",
    "        self.current_transactions = []\n",
    "        self.chain = []\n",
    "\n",
    "        # Create the genesis block\n",
    "        self.new_block(previous_hash=1, proof=100)\n",
    "\n",
    "    def new_block(self, proof, previous_hash=None):\n",
    "        \"\"\"\n",
    "        Create a new Block in the Blockchain\n",
    "        :param proof: <int> The proof given by the Proof of Work algorithm\n",
    "        :param previous_hash: (Optional) <str> Hash of previous Block\n",
    "        :return: <dict> New Block\n",
    "        \"\"\"\n",
    "\n",
    "        block = {\n",
    "            'index': len(self.chain) + 1,\n",
    "            'timestamp': time(),\n",
    "            'transactions': self.current_transactions,\n",
    "            'proof': proof,\n",
    "            'previous_hash': previous_hash or self.hash(self.chain[-1]),\n",
    "        }\n",
    "\n",
    "        # Reset the current list of transactions\n",
    "        self.current_transactions = []\n",
    "\n",
    "        self.chain.append(block)\n",
    "        return block\n",
    "\n",
    "    def new_transaction(self, sender, recipient, amount):\n",
    "        \"\"\"\n",
    "        Creates a new transaction to go into the next mined Block\n",
    "        :param sender: <str> Address of the Sender\n",
    "        :param recipient: <str> Address of the Recipient\n",
    "        :param amount: <int> Amount\n",
    "        :return: <int> The index of the Block that will hold this transaction\n",
    "        \"\"\"\n",
    "        self.current_transactions.append({\n",
    "            'sender': sender,\n",
    "            'recipient': recipient,\n",
    "            'amount': amount,\n",
    "        })\n",
    "\n",
    "        return self.last_block()['index'] + 1\n",
    "\n",
    "\n",
    "    def last_block(self):\n",
    "        return self.chain[-1]\n",
    "\n",
    "\n",
    "    def hash(self, block):\n",
    "        \"\"\"\n",
    "        Creates a SHA-256 hash of a Block\n",
    "        :param block: <dict> Block\n",
    "        :return: <str>\n",
    "        \"\"\"\n",
    "\n",
    "        # We must make sure that the Dictionary is Ordered, or we'll have inconsistent hashes\n",
    "        block_string = json.dumps(block, sort_keys=True).encode()\n",
    "        return hashlib.sha256(block_string).hexdigest()\n",
    "    \n",
    "    def proof_of_work(self, last_proof):\n",
    "        \"\"\"\n",
    "        Simple Proof of Work Algorithm:\n",
    "         - Find a number p' such that hash(pp') contains leading 4 zeroes, where p is the previous p'\n",
    "         - p is the previous proof, and p' is the new proof\n",
    "        :param last_proof: <int>\n",
    "        :return: <int>\n",
    "        \"\"\"\n",
    "\n",
    "        proof = 0\n",
    "        while self.valid_proof(last_proof, proof) is False:\n",
    "            proof += 1\n",
    "\n",
    "        return proof\n",
    "\n",
    "    @staticmethod\n",
    "    def valid_proof(last_proof, proof):\n",
    "        \"\"\"\n",
    "        Validates the Proof: Does hash(last_proof, proof) contain 4 leading zeroes?\n",
    "        :param last_proof: <int> Previous Proof\n",
    "        :param proof: <int> Current Proof\n",
    "        :return: <bool> True if correct, False if not.\n",
    "        \"\"\"\n",
    "\n",
    "        guess = f'{last_proof}{proof}'.encode()\n",
    "        guess_hash = hashlib.sha256(guess).hexdigest()\n",
    "        return guess_hash[:4] == \"0000\"\n",
    "    \n",
    "    "
   ]
  },
  {
   "cell_type": "markdown",
   "metadata": {},
   "source": [
    "# Instantiate a blockchain and mine the first block \n",
    "(beyond the Genesis block which is mined a instantiation of the blockchain)"
   ]
  },
  {
   "cell_type": "code",
   "execution_count": 4,
   "metadata": {},
   "outputs": [
    {
     "data": {
      "text/plain": [
       "{'index': 2,\n",
       " 'message': 'New Block Forged',\n",
       " 'previous_hash': 'a782f8423ac42166c7400f67c7c10664a8ca7497a90eb3206497d3ecbf0f0ad5',\n",
       " 'proof': 35293,\n",
       " 'transactions': [{'amount': 1,\n",
       "   'recipient': '05069c3d8d3b490290ac0dbfb0d51b30',\n",
       "   'sender': '0'}]}"
      ]
     },
     "execution_count": 4,
     "metadata": {},
     "output_type": "execute_result"
    }
   ],
   "source": [
    "blockchain = Blockchain()\n",
    "\n",
    "# universally unique identifier (UUID) is a 128-bit number used to identify information in computer systems\n",
    "node_identifier = str(uuid4()).replace('-', '')\n",
    "\n",
    "def mine():\n",
    "    # We run the proof of work algorithm to get the next proof...\n",
    "    last_block = blockchain.last_block()\n",
    "    last_proof = last_block['proof']\n",
    "    proof = blockchain.proof_of_work(last_proof)\n",
    "\n",
    "    # We must receive a reward for finding the proof.\n",
    "    # The sender is \"0\" to signify that this node has mined a new coin.\n",
    "    blockchain.new_transaction(\n",
    "        sender=\"0\",\n",
    "        recipient=node_identifier,\n",
    "        amount=1,\n",
    "    )\n",
    "\n",
    "    # Forge the new Block by adding it to the chain\n",
    "    previous_hash = blockchain.hash(last_block)\n",
    "    block = blockchain.new_block(proof, previous_hash)\n",
    "\n",
    "    response = {\n",
    "        'message': \"New Block Forged\",\n",
    "        'index': block['index'],\n",
    "        'transactions': block['transactions'],\n",
    "        'proof': block['proof'],\n",
    "        'previous_hash': block['previous_hash'],\n",
    "    }\n",
    "    return response\n",
    "\n",
    "mine()"
   ]
  },
  {
   "cell_type": "markdown",
   "metadata": {},
   "source": [
    "# The block chain now looks like:"
   ]
  },
  {
   "cell_type": "code",
   "execution_count": 5,
   "metadata": {},
   "outputs": [
    {
     "data": {
      "text/plain": [
       "[{'index': 1,\n",
       "  'previous_hash': 1,\n",
       "  'proof': 100,\n",
       "  'timestamp': 1516578139.736879,\n",
       "  'transactions': []},\n",
       " {'index': 2,\n",
       "  'previous_hash': 'a782f8423ac42166c7400f67c7c10664a8ca7497a90eb3206497d3ecbf0f0ad5',\n",
       "  'proof': 35293,\n",
       "  'timestamp': 1516578139.955023,\n",
       "  'transactions': [{'amount': 1,\n",
       "    'recipient': '05069c3d8d3b490290ac0dbfb0d51b30',\n",
       "    'sender': '0'}]}]"
      ]
     },
     "execution_count": 5,
     "metadata": {},
     "output_type": "execute_result"
    }
   ],
   "source": [
    "blockchain.chain"
   ]
  },
  {
   "cell_type": "markdown",
   "metadata": {
    "collapsed": true
   },
   "source": [
    "# Let's add a transaction to the next block"
   ]
  },
  {
   "cell_type": "code",
   "execution_count": 6,
   "metadata": {},
   "outputs": [
    {
     "data": {
      "text/plain": [
       "3"
      ]
     },
     "execution_count": 6,
     "metadata": {},
     "output_type": "execute_result"
    }
   ],
   "source": [
    "blockchain.new_transaction(\"bob\", \"alice\", \"10\")"
   ]
  },
  {
   "cell_type": "code",
   "execution_count": 7,
   "metadata": {},
   "outputs": [
    {
     "data": {
      "text/plain": [
       "[{'index': 1,\n",
       "  'previous_hash': 1,\n",
       "  'proof': 100,\n",
       "  'timestamp': 1516578139.736879,\n",
       "  'transactions': []},\n",
       " {'index': 2,\n",
       "  'previous_hash': 'a782f8423ac42166c7400f67c7c10664a8ca7497a90eb3206497d3ecbf0f0ad5',\n",
       "  'proof': 35293,\n",
       "  'timestamp': 1516578139.955023,\n",
       "  'transactions': [{'amount': 1,\n",
       "    'recipient': '05069c3d8d3b490290ac0dbfb0d51b30',\n",
       "    'sender': '0'}]}]"
      ]
     },
     "execution_count": 7,
     "metadata": {},
     "output_type": "execute_result"
    }
   ],
   "source": [
    "blockchain.chain"
   ]
  },
  {
   "cell_type": "markdown",
   "metadata": {},
   "source": [
    "It doesn't appear because a new block hasn't been mined yet. It lives in blockchain.current_transactions list at the moment"
   ]
  },
  {
   "cell_type": "code",
   "execution_count": 9,
   "metadata": {},
   "outputs": [
    {
     "data": {
      "text/plain": [
       "[{'amount': '10', 'recipient': 'alice', 'sender': 'bob'}]"
      ]
     },
     "execution_count": 9,
     "metadata": {},
     "output_type": "execute_result"
    }
   ],
   "source": [
    "blockchain.current_transactions"
   ]
  },
  {
   "cell_type": "markdown",
   "metadata": {},
   "source": [
    "Let's add come more"
   ]
  },
  {
   "cell_type": "code",
   "execution_count": 10,
   "metadata": {},
   "outputs": [
    {
     "data": {
      "text/plain": [
       "3"
      ]
     },
     "execution_count": 10,
     "metadata": {},
     "output_type": "execute_result"
    }
   ],
   "source": [
    "blockchain.new_transaction(\"tom\", \"brady\", \"1000000\")\n",
    "blockchain.new_transaction(\"john\", \"smith\", \"30\")"
   ]
  },
  {
   "cell_type": "code",
   "execution_count": 11,
   "metadata": {},
   "outputs": [
    {
     "data": {
      "text/plain": [
       "[{'amount': '10', 'recipient': 'alice', 'sender': 'bob'},\n",
       " {'amount': '1000000', 'recipient': 'brady', 'sender': 'tom'},\n",
       " {'amount': '30', 'recipient': 'smith', 'sender': 'john'}]"
      ]
     },
     "execution_count": 11,
     "metadata": {},
     "output_type": "execute_result"
    }
   ],
   "source": [
    "blockchain.current_transactions"
   ]
  },
  {
   "cell_type": "markdown",
   "metadata": {},
   "source": [
    "# Now, let's mine the next block"
   ]
  },
  {
   "cell_type": "code",
   "execution_count": 14,
   "metadata": {},
   "outputs": [
    {
     "data": {
      "text/plain": [
       "[{'index': 1,\n",
       "  'previous_hash': 1,\n",
       "  'proof': 100,\n",
       "  'timestamp': 1516578139.736879,\n",
       "  'transactions': []},\n",
       " {'index': 2,\n",
       "  'previous_hash': 'a782f8423ac42166c7400f67c7c10664a8ca7497a90eb3206497d3ecbf0f0ad5',\n",
       "  'proof': 35293,\n",
       "  'timestamp': 1516578139.955023,\n",
       "  'transactions': [{'amount': 1,\n",
       "    'recipient': '05069c3d8d3b490290ac0dbfb0d51b30',\n",
       "    'sender': '0'}]},\n",
       " {'index': 3,\n",
       "  'previous_hash': '08a3a2bfe75711cd0bada143400ee80f06d18e3f4c432f50df4767379e8ada9a',\n",
       "  'proof': 35089,\n",
       "  'timestamp': 1516578576.0335057,\n",
       "  'transactions': [{'amount': '10', 'recipient': 'alice', 'sender': 'bob'},\n",
       "   {'amount': '1000000', 'recipient': 'brady', 'sender': 'tom'},\n",
       "   {'amount': '30', 'recipient': 'smith', 'sender': 'john'},\n",
       "   {'amount': 1,\n",
       "    'recipient': '05069c3d8d3b490290ac0dbfb0d51b30',\n",
       "    'sender': '0'}]},\n",
       " {'index': 4,\n",
       "  'previous_hash': '9e8113610bd0abeadd166872d5618b89636c97294f162556e6bb564bab06212e',\n",
       "  'proof': 119678,\n",
       "  'timestamp': 1516578595.315006,\n",
       "  'transactions': [{'amount': 1,\n",
       "    'recipient': '05069c3d8d3b490290ac0dbfb0d51b30',\n",
       "    'sender': '0'}]},\n",
       " {'index': 5,\n",
       "  'previous_hash': 'd12fb82a223ddf3ca7a98c48a9f0894ad542b13bf2e48d01892601702f725ef6',\n",
       "  'proof': 146502,\n",
       "  'timestamp': 1516578757.02283,\n",
       "  'transactions': [{'amount': 1,\n",
       "    'recipient': '05069c3d8d3b490290ac0dbfb0d51b30',\n",
       "    'sender': '0'}]}]"
      ]
     },
     "execution_count": 14,
     "metadata": {},
     "output_type": "execute_result"
    }
   ],
   "source": [
    "mine()\n",
    "blockchain.chain"
   ]
  },
  {
   "cell_type": "code",
   "execution_count": null,
   "metadata": {
    "collapsed": true
   },
   "outputs": [],
   "source": []
  }
 ],
 "metadata": {
  "kernelspec": {
    "name": "python3",
    "display_name": "Python 3",
    "language": "python"
  },
  "language_info": {
    "name": "python",
    "version": "3.6.3",
    "mimetype": "text/x-python",
    "codemirror_mode": {
      "name": "ipython",
      "version": 3
    },
    "pygments_lexer": "ipython3",
    "nbconvert_exporter": "python",
    "file_extension": ".py"
  }
},
 "nbformat": 4,
 "nbformat_minor": 2
}
